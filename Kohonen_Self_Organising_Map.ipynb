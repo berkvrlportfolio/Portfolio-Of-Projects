{
 "cells": [
  {
   "cell_type": "markdown",
   "id": "a32f2514",
   "metadata": {},
   "source": [
    "AI Projects: Kohonen Self Organising Map From Scratch\n",
    "-----"
   ]
  },
  {
   "cell_type": "markdown",
   "id": "f1ecbeee",
   "metadata": {},
   "source": [
    "Kohonen's self-organizing map (SOM) is a type of artificial neural network that can be used for data visualization and unsupervised learning. The SOM is trained to create a low-dimensional representation of high-dimensional data, such as images, sounds, or text. The map consists of a grid of neurons, where each neuron is associated with a weight vector that represents a point in the input space. During training, the SOM adjusts its neurons' weights to match the input data. The result is a map that preserves the topological relationships of the input data, making it easier to visualize and analyze. The SOM can be used for tasks such as clustering, visualization, and feature extraction."
   ]
  },
  {
   "cell_type": "markdown",
   "id": "746c554c",
   "metadata": {},
   "source": [
    "-----\n",
    "Lets start with importing libraries"
   ]
  },
  {
   "cell_type": "code",
   "execution_count": 2,
   "id": "11493a2d",
   "metadata": {},
   "outputs": [],
   "source": [
    "import numpy as np\n",
    "import random\n",
    "import matplotlib\n",
    "import matplotlib.pyplot as plt\n",
    "matplotlib.use(\"Qt5Agg\")\n",
    "from mpl_toolkits.mplot3d import Axes3D\n",
    "import matplotlib.animation as animation\n",
    "from PIL import Image\n"
   ]
  },
  {
   "cell_type": "markdown",
   "id": "dbc56968",
   "metadata": {},
   "source": [
    "defining some variables for our input data"
   ]
  },
  {
   "cell_type": "code",
   "execution_count": 3,
   "id": "30a66f83",
   "metadata": {},
   "outputs": [],
   "source": [
    "buyukluk=150 #size of sata\n",
    "toplam= buyukluk*4 # total =4 * size\n",
    "egitim_kumesi_noktalar=int(toplam*0.9) #defines the training size test size ratio\n",
    "boyut= 3 #dimensions"
   ]
  },
  {
   "cell_type": "markdown",
   "id": "828921a0",
   "metadata": {},
   "source": [
    "Defining Our Data Set\n",
    "\n",
    "-----\n",
    "\n"
   ]
  },
  {
   "cell_type": "code",
   "execution_count": 4,
   "id": "dba24fb3",
   "metadata": {},
   "outputs": [],
   "source": [
    "## Divide data into colors \n",
    "def renklere_ayir (data_set):\n",
    "    colors =[]\n",
    "    for i in data_set:\n",
    "        if i==0:\n",
    "            colors.append('b')\n",
    "        elif i == 1:\n",
    "            colors.append('g')\n",
    "        elif i == 2:\n",
    "            colors.append('r')\n",
    "        elif i == 3:\n",
    "            colors.append('c')\n",
    "        elif i == 4:\n",
    "            colors.append('k')\n",
    "    return colors"
   ]
  },
  {
   "cell_type": "markdown",
   "id": "6b11fee1",
   "metadata": {},
   "source": [
    "Training set:"
   ]
  },
  {
   "cell_type": "code",
   "execution_count": 5,
   "id": "c64c3164",
   "metadata": {},
   "outputs": [
    {
     "data": {
      "text/plain": [
       "<mpl_toolkits.mplot3d.art3d.Path3DCollection at 0x165355dfbe0>"
      ]
     },
     "execution_count": 5,
     "metadata": {},
     "output_type": "execute_result"
    }
   ],
   "source": [
    "X_egitim = np.concatenate((np.random.multivariate_normal([2, 2, 2],0.1*np.eye(boyut), buyukluk), \n",
    "                        np.random.multivariate_normal([0, -2, -2], 0.1*np.eye(boyut), buyukluk), \n",
    "                        np.random.multivariate_normal([-2, 0, 2], 0.1*np.eye(boyut), buyukluk),\n",
    "                        np.random.multivariate_normal([2, 2, -2], 0.1*np.eye(boyut), buyukluk)))\n",
    "y_egitim = np.concatenate((np.zeros(buyukluk), np.ones(buyukluk), 2*np.ones(buyukluk), 3*np.ones(buyukluk)))\n",
    "fig = plt.figure()\n",
    "ax = fig.add_subplot(111, projection='3d')\n",
    "ax.scatter(X_egitim[:, 0], X_egitim[:, 1], X_egitim[:, 2], c=renklere_ayir(y_egitim))\n"
   ]
  },
  {
   "cell_type": "markdown",
   "id": "6a1ec3cb",
   "metadata": {},
   "source": [
    "Initialize Neurons"
   ]
  },
  {
   "cell_type": "code",
   "execution_count": 6,
   "id": "13c0f31a",
   "metadata": {},
   "outputs": [],
   "source": [
    "x1=10\n",
    "x2=10\n",
    "noronlar_boyutu= x1*x2\n",
    "agirliklar=(np.random.rand(noronlar_boyutu,boyut))\n",
    "noron_sinifi=4*np.ones(noronlar_boyutu)\n",
    "ax.scatter(agirliklar[:, 0], agirliklar[:, 1], agirliklar[:, 2], c='k', marker='*') #figure 1\n",
    "plt.show()"
   ]
  },
  {
   "cell_type": "markdown",
   "id": "9f87de25",
   "metadata": {},
   "source": [
    "creating the i-j dimension"
   ]
  },
  {
   "cell_type": "code",
   "execution_count": 7,
   "id": "18345462",
   "metadata": {},
   "outputs": [
    {
     "name": "stdout",
     "output_type": "stream",
     "text": [
      "[[0. 0.]\n",
      " [0. 1.]\n",
      " [0. 2.]\n",
      " [0. 3.]\n",
      " [0. 4.]\n",
      " [0. 5.]\n",
      " [0. 6.]\n",
      " [0. 7.]\n",
      " [0. 8.]\n",
      " [0. 9.]\n",
      " [1. 0.]\n",
      " [1. 1.]\n",
      " [1. 2.]\n",
      " [1. 3.]\n",
      " [1. 4.]\n",
      " [1. 5.]\n",
      " [1. 6.]\n",
      " [1. 7.]\n",
      " [1. 8.]\n",
      " [1. 9.]\n",
      " [2. 0.]\n",
      " [2. 1.]\n",
      " [2. 2.]\n",
      " [2. 3.]\n",
      " [2. 4.]\n",
      " [2. 5.]\n",
      " [2. 6.]\n",
      " [2. 7.]\n",
      " [2. 8.]\n",
      " [2. 9.]\n",
      " [3. 0.]\n",
      " [3. 1.]\n",
      " [3. 2.]\n",
      " [3. 3.]\n",
      " [3. 4.]\n",
      " [3. 5.]\n",
      " [3. 6.]\n",
      " [3. 7.]\n",
      " [3. 8.]\n",
      " [3. 9.]\n",
      " [4. 0.]\n",
      " [4. 1.]\n",
      " [4. 2.]\n",
      " [4. 3.]\n",
      " [4. 4.]\n",
      " [4. 5.]\n",
      " [4. 6.]\n",
      " [4. 7.]\n",
      " [4. 8.]\n",
      " [4. 9.]\n",
      " [5. 0.]\n",
      " [5. 1.]\n",
      " [5. 2.]\n",
      " [5. 3.]\n",
      " [5. 4.]\n",
      " [5. 5.]\n",
      " [5. 6.]\n",
      " [5. 7.]\n",
      " [5. 8.]\n",
      " [5. 9.]\n",
      " [6. 0.]\n",
      " [6. 1.]\n",
      " [6. 2.]\n",
      " [6. 3.]\n",
      " [6. 4.]\n",
      " [6. 5.]\n",
      " [6. 6.]\n",
      " [6. 7.]\n",
      " [6. 8.]\n",
      " [6. 9.]\n",
      " [7. 0.]\n",
      " [7. 1.]\n",
      " [7. 2.]\n",
      " [7. 3.]\n",
      " [7. 4.]\n",
      " [7. 5.]\n",
      " [7. 6.]\n",
      " [7. 7.]\n",
      " [7. 8.]\n",
      " [7. 9.]\n",
      " [8. 0.]\n",
      " [8. 1.]\n",
      " [8. 2.]\n",
      " [8. 3.]\n",
      " [8. 4.]\n",
      " [8. 5.]\n",
      " [8. 6.]\n",
      " [8. 7.]\n",
      " [8. 8.]\n",
      " [8. 9.]\n",
      " [9. 0.]\n",
      " [9. 1.]\n",
      " [9. 2.]\n",
      " [9. 3.]\n",
      " [9. 4.]\n",
      " [9. 5.]\n",
      " [9. 6.]\n",
      " [9. 7.]\n",
      " [9. 8.]\n",
      " [9. 9.]]\n"
     ]
    }
   ],
   "source": [
    "index_haritasi = np.zeros((noronlar_boyutu, 2))\n",
    "for i in range(x2):\n",
    "    for j in range(x1):\n",
    "        index_haritasi[i*x2 + j, :] = [i, j]\n",
    "print (index_haritasi)"
   ]
  },
  {
   "cell_type": "markdown",
   "id": "15d85aea",
   "metadata": {},
   "source": [
    "defining the dataset"
   ]
  },
  {
   "cell_type": "code",
   "execution_count": 9,
   "id": "65da0eb2",
   "metadata": {},
   "outputs": [],
   "source": [
    "dataset=list(zip(X_egitim,\n",
    "                 y_egitim))\n",
    "random.shuffle(dataset)\n",
    "egitim_kumesi=dataset[:egitim_kumesi_noktalar]\n",
    "test_kumesi=dataset[egitim_kumesi_noktalar:] #egitim kümesindek inokta sayısından sonrasını alacaktır"
   ]
  },
  {
   "cell_type": "markdown",
   "id": "84cad220",
   "metadata": {},
   "source": [
    "COOPERATION"
   ]
  },
  {
   "cell_type": "code",
   "execution_count": 10,
   "id": "4e908562",
   "metadata": {},
   "outputs": [],
   "source": [
    "def komsuluk(k, i):\n",
    "    \n",
    "    def sigma(k, sigma_0 = 2, sigma_1 = 40):\n",
    "       return sigma_0 * np.exp(-1 * k / sigma_1)\n",
    "   \n",
    "    oranlama = 2 * np.square(sigma(k))\n",
    "    h = np.zeros(len(index_haritasi))\n",
    "    for j in range(len(index_haritasi)):\n",
    "        neuron_dagilimi = np.linalg.norm(index_haritasi[i, :]-index_haritasi[j, :])#np.linalg.norm= matris normunu veriyor\n",
    "        h[j] = np.exp(-1 * (np.square(neuron_dagilimi)) / oranlama)\n",
    "    return h"
   ]
  },
  {
   "cell_type": "markdown",
   "id": "912c2f49",
   "metadata": {},
   "source": [
    "defining the graphs"
   ]
  },
  {
   "cell_type": "code",
   "execution_count": 13,
   "id": "c4cd5e3a",
   "metadata": {},
   "outputs": [],
   "source": [
    "fig=plt.figure(constrained_layout=True)\n",
    "\n",
    "#3d figure\n",
    "ax=fig.add_subplot(projection='3d')\n",
    "ax.title.set_text ('Veri uzayı')\n",
    "ax.axis([-5,5,-5,5])\n",
    "ax.set_zlim([-5,5]) # z axisi\n",
    "plt.pause(0.3)\n"
   ]
  },
  {
   "cell_type": "markdown",
   "id": "8097044d",
   "metadata": {},
   "source": [
    "test data :\n"
   ]
  },
  {
   "cell_type": "code",
   "execution_count": 16,
   "id": "6750a0c1",
   "metadata": {},
   "outputs": [],
   "source": [
    "a,b = zip(*test_kumesi)\n",
    "test_X=np.array(a)\n",
    "test_y=np.array(b)\n",
    "ax.scatter(test_X[:,0],test_X[:,1],test_X[:,2],s=10,c=renklere_ayir(test_y))\n",
    "sc= ax.scatter(agirliklar[:,0],agirliklar[:,1],agirliklar[:,2],c='k',marker='^')"
   ]
  },
  {
   "cell_type": "markdown",
   "id": "297f2a77",
   "metadata": {},
   "source": [
    "Starting iteration :"
   ]
  },
  {
   "cell_type": "code",
   "execution_count": 17,
   "id": "b5539693",
   "metadata": {},
   "outputs": [],
   "source": [
    "iterasyon_sayisi=100\n",
    "l_rate=0.005\n",
    "eski_agirliklar=np.zeros(agirliklar.shape) #agirlikları initalize etmişiz gibi sayabiliriz"
   ]
  },
  {
   "cell_type": "markdown",
   "id": "5e015aa6",
   "metadata": {},
   "source": [
    "the algorithm :"
   ]
  },
  {
   "cell_type": "code",
   "execution_count": 18,
   "id": "8ffd09fc",
   "metadata": {},
   "outputs": [
    {
     "name": "stdout",
     "output_type": "stream",
     "text": [
      "0\n",
      "1\n",
      "2\n",
      "3\n",
      "4\n",
      "5\n",
      "6\n",
      "7\n",
      "8\n",
      "9\n",
      "10\n",
      "11\n",
      "12\n",
      "13\n",
      "14\n",
      "15\n",
      "16\n",
      "17\n",
      "18\n",
      "19\n",
      "20\n",
      "21\n",
      "22\n",
      "23\n",
      "24\n",
      "25\n",
      "26\n",
      "27\n",
      "28\n",
      "29\n",
      "30\n",
      "31\n",
      "32\n",
      "33\n",
      "34\n",
      "35\n",
      "36\n",
      "37\n",
      "38\n",
      "39\n",
      "40\n",
      "41\n",
      "42\n",
      "43\n",
      "44\n",
      "45\n",
      "46\n",
      "47\n",
      "48\n",
      "49\n",
      "50\n",
      "51\n",
      "52\n",
      "53\n",
      "54\n",
      "55\n",
      "56\n",
      "57\n",
      "58\n",
      "59\n",
      "60\n",
      "61\n",
      "62\n",
      "63\n",
      "64\n",
      "65\n",
      "66\n",
      "67\n",
      "68\n",
      "69\n",
      "70\n",
      "71\n",
      "72\n",
      "73\n",
      "74\n",
      "75\n",
      "76\n",
      "77\n",
      "78\n",
      "79\n",
      "80\n",
      "81\n",
      "82\n",
      "83\n",
      "84\n",
      "85\n",
      "86\n",
      "87\n",
      "88\n",
      "89\n",
      "90\n",
      "91\n",
      "92\n",
      "93\n",
      "94\n",
      "95\n",
      "96\n",
      "97\n",
      "98\n",
      "99\n"
     ]
    }
   ],
   "source": [
    "try:\n",
    "    for k in range(iterasyon_sayisi):\n",
    "        print(k)\n",
    "        random.shuffle(egitim_kumesi)\n",
    "        for x,y in egitim_kumesi:\n",
    "            d=np.zeros(noronlar_boyutu) #dnin initializationu\n",
    "            for i in range(noronlar_boyutu):\n",
    "                d[i] = np.linalg.norm(x-agirliklar[i,:]) #np.linalg.norm= matris normunu veriyor #dji nin define edilmesi\n",
    "            kazanan = np.argmin(d) #minimum norma sahip ola nöron kazanır!\n",
    "            noron_sinifi[kazanan] = y\n",
    "            h = komsuluk(k,kazanan)\n",
    "            for j in range(noronlar_boyutu):\n",
    "                delta_w = l_rate * h[j] * (x -agirliklar[j]) #unutma terimindeki deta wj\n",
    "                agirliklar[j] += delta_w # ağırlıkların guncellenmesi\n",
    "            \n",
    "        sc.remove()\n",
    "        sc=ax.scatter(agirliklar[:,0],agirliklar[:,1],agirliklar[:,2],s=10,c=renklere_ayir(noron_sinifi),marker='x')\n",
    "        plt.pause(0.1)\n",
    "        if(np.linalg.norm(agirliklar-eski_agirliklar).mean()<0.01): #durma koşulu\n",
    "          break     \n",
    "except KeyboardInterrupt:\n",
    "    pass"
   ]
  },
  {
   "cell_type": "code",
   "execution_count": null,
   "id": "9712ed4a",
   "metadata": {},
   "outputs": [],
   "source": []
  }
 ],
 "metadata": {
  "kernelspec": {
   "display_name": "Python 3",
   "language": "python",
   "name": "python3"
  },
  "language_info": {
   "codemirror_mode": {
    "name": "ipython",
    "version": 3
   },
   "file_extension": ".py",
   "mimetype": "text/x-python",
   "name": "python",
   "nbconvert_exporter": "python",
   "pygments_lexer": "ipython3",
   "version": "3.8.8"
  }
 },
 "nbformat": 4,
 "nbformat_minor": 5
}
