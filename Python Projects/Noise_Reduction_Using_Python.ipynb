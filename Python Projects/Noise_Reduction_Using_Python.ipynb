{
 "cells": [
  {
   "cell_type": "markdown",
   "id": "498fc7b6",
   "metadata": {},
   "source": [
    " _a python code which takes mic recording as an input and adds delay to it as an output_ \n",
    " -------------------------\n",
    " Explanation:\n",
    "\n",
    "First, we import the required modules and define some constants like chunk size, audio format, channels, sample rate, and delay.\n",
    "\n",
    "Next, we initialize a PyAudio object and open an audio stream for recording and playback.\n",
    "\n",
    "We start recording audio from the input stream and store the audio frames in a list for later playback.\n",
    "\n",
    "After the recording is complete, we iterate through the recorded audio frames and play them back through the output stream.\n",
    "\n",
    "Finally, we close the audio stream and terminate the PyAudio object."
   ]
  },
  {
   "cell_type": "code",
   "execution_count": 6,
   "id": "12c551b8",
   "metadata": {
    "scrolled": true
   },
   "outputs": [
    {
     "name": "stdout",
     "output_type": "stream",
     "text": [
      "Recording...\n",
      "Finished recording\n",
      "Saved cleaned audio to cleaned_audio.wav\n"
     ]
    }
   ],
   "source": [
    "import pyaudio\n",
    "import numpy as np\n",
    "import pywt\n",
    "import wave\n",
    "\n",
    "# Constants\n",
    "FORMAT = pyaudio.paInt16\n",
    "CHANNELS = 1\n",
    "RATE = 44100\n",
    "CHUNK_SIZE = 1024\n",
    "RECORD_SECONDS = 5\n",
    "WAVE_OUTPUT_FILENAME = \"cleaned_audio.wav\"\n",
    "\n",
    "# Set up PyAudio object\n",
    "p = pyaudio.PyAudio()\n",
    "\n",
    "# Open microphone input stream\n",
    "stream = p.open(format=FORMAT,\n",
    "                channels=CHANNELS,\n",
    "                rate=RATE,\n",
    "                input=True,\n",
    "                frames_per_buffer=CHUNK_SIZE)\n",
    "\n",
    "print(\"Recording...\")\n",
    "\n",
    "# Record audio for specified number of seconds\n",
    "frames = []\n",
    "for i in range(0, int(RATE / CHUNK_SIZE * RECORD_SECONDS)):\n",
    "    data = stream.read(CHUNK_SIZE)\n",
    "    frames.append(data)\n",
    "\n",
    "print(\"Finished recording\")\n",
    "\n",
    "# Convert frames to numpy array\n",
    "audio_data = np.frombuffer(b''.join(frames), dtype=np.int16)\n",
    "\n",
    "# Apply Discrete Wavelet Transform and Soft Thresholding for noise reduction\n",
    "wavelet_name = 'db4'\n",
    "level = 3\n",
    "threshold = 0.02  # adjust as needed\n",
    "coeffs = pywt.wavedec(audio_data, wavelet_name, level=level)\n",
    "new_coeffs = [pywt.threshold(c, threshold*max(c)) for c in coeffs]\n",
    "new_audio = pywt.waverec(new_coeffs, wavelet_name)\n",
    "\n",
    "# Convert audio data back to bytes\n",
    "new_frames = new_audio.astype(np.int16).tobytes()\n",
    "\n",
    "# Save cleaned audio to WAV file\n",
    "with wave.open(WAVE_OUTPUT_FILENAME, 'wb') as wf:\n",
    "    wf.setnchannels(CHANNELS)\n",
    "    wf.setsampwidth(p.get_sample_size(FORMAT))\n",
    "    wf.setframerate(RATE)\n",
    "    wf.writeframes(new_frames)\n",
    "\n",
    "# Clean up\n",
    "stream.stop_stream()\n",
    "stream.close()\n",
    "p.terminate()\n",
    "\n",
    "print(\"Saved cleaned audio to \" + WAVE_OUTPUT_FILENAME)"
   ]
  },
  {
   "cell_type": "code",
   "execution_count": null,
   "id": "f70eeeab",
   "metadata": {},
   "outputs": [],
   "source": []
  }
 ],
 "metadata": {
  "kernelspec": {
   "display_name": "Python 3",
   "language": "python",
   "name": "python3"
  },
  "language_info": {
   "codemirror_mode": {
    "name": "ipython",
    "version": 3
   },
   "file_extension": ".py",
   "mimetype": "text/x-python",
   "name": "python",
   "nbconvert_exporter": "python",
   "pygments_lexer": "ipython3",
   "version": "3.8.8"
  }
 },
 "nbformat": 4,
 "nbformat_minor": 5
}
