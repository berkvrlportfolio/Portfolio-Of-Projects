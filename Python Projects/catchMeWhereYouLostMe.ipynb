{
 "cells": [
  {
   "cell_type": "code",
   "execution_count": 1,
   "id": "d5c7a59d",
   "metadata": {},
   "outputs": [
    {
     "name": "stdout",
     "output_type": "stream",
     "text": [
      "pygame 2.3.0 (SDL 2.24.2, Python 3.8.8)\n",
      "Hello from the pygame community. https://www.pygame.org/contribute.html\n"
     ]
    },
    {
     "ename": "error",
     "evalue": "video system not initialized",
     "output_type": "error",
     "traceback": [
      "\u001b[1;31m---------------------------------------------------------------------------\u001b[0m",
      "\u001b[1;31merror\u001b[0m                                     Traceback (most recent call last)",
      "\u001b[1;32m<ipython-input-1-041ac48e9a24>\u001b[0m in \u001b[0;36m<module>\u001b[1;34m\u001b[0m\n\u001b[0;32m     38\u001b[0m \u001b[1;33m\u001b[0m\u001b[0m\n\u001b[0;32m     39\u001b[0m     \u001b[1;31m# Move the player based on the mouse position\u001b[0m\u001b[1;33m\u001b[0m\u001b[1;33m\u001b[0m\u001b[1;33m\u001b[0m\u001b[0m\n\u001b[1;32m---> 40\u001b[1;33m     \u001b[0mmouse_pos\u001b[0m \u001b[1;33m=\u001b[0m \u001b[0mpygame\u001b[0m\u001b[1;33m.\u001b[0m\u001b[0mmouse\u001b[0m\u001b[1;33m.\u001b[0m\u001b[0mget_pos\u001b[0m\u001b[1;33m(\u001b[0m\u001b[1;33m)\u001b[0m\u001b[1;33m\u001b[0m\u001b[1;33m\u001b[0m\u001b[0m\n\u001b[0m\u001b[0;32m     41\u001b[0m     \u001b[0mplayer_rect\u001b[0m\u001b[1;33m.\u001b[0m\u001b[0mcenterx\u001b[0m \u001b[1;33m=\u001b[0m \u001b[0mmouse_pos\u001b[0m\u001b[1;33m[\u001b[0m\u001b[1;36m0\u001b[0m\u001b[1;33m]\u001b[0m\u001b[1;33m\u001b[0m\u001b[1;33m\u001b[0m\u001b[0m\n\u001b[0;32m     42\u001b[0m     \u001b[0mplayer_rect\u001b[0m\u001b[1;33m.\u001b[0m\u001b[0mcentery\u001b[0m \u001b[1;33m=\u001b[0m \u001b[0mmouse_pos\u001b[0m\u001b[1;33m[\u001b[0m\u001b[1;36m1\u001b[0m\u001b[1;33m]\u001b[0m\u001b[1;33m\u001b[0m\u001b[1;33m\u001b[0m\u001b[0m\n",
      "\u001b[1;31merror\u001b[0m: video system not initialized"
     ]
    }
   ],
   "source": [
    "import pygame\n",
    "import random\n",
    "import math\n",
    "\n",
    "# Initialize Pygame\n",
    "pygame.init()\n",
    "\n",
    "# Set up the display\n",
    "screen_width = 800\n",
    "screen_height = 600\n",
    "screen = pygame.display.set_mode((screen_width, screen_height))\n",
    "pygame.display.set_caption(\"Catch me Where you Lost Me\")\n",
    "\n",
    "# Load the images\n",
    "bg_img = pygame.image.load(\"background.png\").convert_alpha()\n",
    "bg_img = pygame.transform.scale(bg_img, (screen_width, screen_height))\n",
    "\n",
    "player_img = pygame.image.load(\"target1.png\").convert_alpha()\n",
    "player_img = pygame.transform.scale(player_img, (50, 50))\n",
    "player_rect = player_img.get_rect()\n",
    "\n",
    "target_img = pygame.image.load(\"player1.png\").convert_alpha()\n",
    "target_img = pygame.transform.scale(target_img, (50, 50))\n",
    "target_rect = target_img.get_rect()\n",
    "target_rect.x = random.randint(0, screen_width - target_rect.width)\n",
    "target_rect.y = random.randint(0, screen_height - target_rect.height)\n",
    "\n",
    "# Set up the clock\n",
    "clock = pygame.time.Clock()\n",
    "\n",
    "# Main game loop\n",
    "while True:\n",
    "    # Handle events\n",
    "    for event in pygame.event.get():\n",
    "        if event.type == pygame.QUIT:\n",
    "            pygame.quit()\n",
    "            exit()\n",
    "    \n",
    "    # Move the player based on the mouse position\n",
    "    mouse_pos = pygame.mouse.get_pos()\n",
    "    player_rect.centerx = mouse_pos[0]\n",
    "    player_rect.centery = mouse_pos[1]\n",
    "    \n",
    "    # Move the target rectangle\n",
    "    dx = target_rect.centerx - player_rect.centerx\n",
    "    dy = target_rect.centery - player_rect.centery\n",
    "    if dx != 0 or dy != 0:\n",
    "        distance = math.sqrt(dx**2 + dy**2)\n",
    "    if dx == 0:\n",
    "        target_rect = target_rect.move(0, -dy/abs(dy)*min(2, distance))\n",
    "    elif dy == 0:\n",
    "        target_rect = target_rect.move(-dx/abs(dx)*min(2, distance), 0)\n",
    "    else:\n",
    "        target_rect = target_rect.move(-dx/abs(dx)*min(2, distance), -dy/abs(dy)*min(2, distance))\n",
    "\n",
    "    # Draw the background and images\n",
    "    screen.blit(bg_img, (0, 0))\n",
    "    screen.blit(target_img, target_rect)\n",
    "    screen.blit(player_img, player_rect)\n",
    "    \n",
    "    # Check if the player caught the target rectangle\n",
    "    if player_rect.colliderect(target_rect):\n",
    "        target_rect.x = random.randint(0, screen_width - target_rect.width)\n",
    "        target_rect.y = random.randint(0, screen_height - target_rect.height)\n",
    "    \n",
    "    # Update the display and wait for the next frame\n",
    "    pygame.display.flip()\n",
    "    clock.tick(60)\n"
   ]
  },
  {
   "cell_type": "code",
   "execution_count": null,
   "id": "1ee54372",
   "metadata": {},
   "outputs": [],
   "source": []
  }
 ],
 "metadata": {
  "kernelspec": {
   "display_name": "Python 3",
   "language": "python",
   "name": "python3"
  },
  "language_info": {
   "codemirror_mode": {
    "name": "ipython",
    "version": 3
   },
   "file_extension": ".py",
   "mimetype": "text/x-python",
   "name": "python",
   "nbconvert_exporter": "python",
   "pygments_lexer": "ipython3",
   "version": "3.8.8"
  }
 },
 "nbformat": 4,
 "nbformat_minor": 5
}
