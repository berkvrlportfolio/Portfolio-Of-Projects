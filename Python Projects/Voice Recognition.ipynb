{
 "cells": [
  {
   "cell_type": "markdown",
   "id": "6d8d4c4c",
   "metadata": {},
   "source": [
    "Voice Translator app using python\n",
    "-----"
   ]
  },
  {
   "cell_type": "markdown",
   "id": "a9b9cf46",
   "metadata": {},
   "source": [
    "--------------------\n",
    "create a super quick project in python that is able to do the voice translation of any language. Firstly it takes your voice as input and recognizes your voice data after that it does the translation of your selected language.\n",
    "\n",
    "----"
   ]
  },
  {
   "cell_type": "markdown",
   "id": "546f5cbb",
   "metadata": {},
   "source": [
    "starting with importing data"
   ]
  },
  {
   "cell_type": "code",
   "execution_count": 1,
   "id": "f1a803b0",
   "metadata": {
    "scrolled": true
   },
   "outputs": [
    {
     "name": "stdout",
     "output_type": "stream",
     "text": [
      "Requirement already satisfied: SpeechRecognition in d:\\anaconda\\lib\\site-packages (3.9.0)\n",
      "Requirement already satisfied: requests>=2.26.0 in d:\\anaconda\\lib\\site-packages (from SpeechRecognition) (2.28.2)\n",
      "Requirement already satisfied: urllib3<1.27,>=1.21.1 in d:\\anaconda\\lib\\site-packages (from requests>=2.26.0->SpeechRecognition) (1.26.4)\n",
      "Requirement already satisfied: charset-normalizer<4,>=2 in d:\\anaconda\\lib\\site-packages (from requests>=2.26.0->SpeechRecognition) (3.1.0)\n",
      "Requirement already satisfied: certifi>=2017.4.17 in d:\\anaconda\\lib\\site-packages (from requests>=2.26.0->SpeechRecognition) (2020.12.5)\n",
      "Requirement already satisfied: idna<4,>=2.5 in d:\\anaconda\\lib\\site-packages (from requests>=2.26.0->SpeechRecognition) (2.10)\n"
     ]
    }
   ],
   "source": [
    "!pip install SpeechRecognition"
   ]
  },
  {
   "cell_type": "code",
   "execution_count": 2,
   "id": "ebd7be25",
   "metadata": {},
   "outputs": [
    {
     "name": "stdout",
     "output_type": "stream",
     "text": [
      "Requirement already satisfied: google_trans_new in d:\\anaconda\\lib\\site-packages (1.1.9)\n"
     ]
    }
   ],
   "source": [
    "!pip install google_trans_new"
   ]
  },
  {
   "cell_type": "code",
   "execution_count": 3,
   "id": "43e6961d",
   "metadata": {},
   "outputs": [
    {
     "name": "stdout",
     "output_type": "stream",
     "text": [
      "Requirement already satisfied: pyttsx3 in d:\\anaconda\\lib\\site-packages (2.90)\n",
      "Requirement already satisfied: pywin32 in d:\\anaconda\\lib\\site-packages (from pyttsx3) (227)\n",
      "Requirement already satisfied: pypiwin32 in d:\\anaconda\\lib\\site-packages (from pyttsx3) (223)\n",
      "Requirement already satisfied: comtypes in d:\\anaconda\\lib\\site-packages (from pyttsx3) (1.1.9)\n"
     ]
    }
   ],
   "source": [
    "!pip install pyttsx3"
   ]
  },
  {
   "cell_type": "code",
   "execution_count": 4,
   "id": "f9f9b0fd",
   "metadata": {},
   "outputs": [
    {
     "name": "stdout",
     "output_type": "stream",
     "text": [
      "Requirement already satisfied: PyAudio in d:\\anaconda\\lib\\site-packages (0.2.13)\n"
     ]
    }
   ],
   "source": [
    "!pip install PyAudio"
   ]
  },
  {
   "cell_type": "code",
   "execution_count": 22,
   "id": "b577b99b",
   "metadata": {},
   "outputs": [],
   "source": [
    "import speech_recognition as sr\n",
    "from google_trans_new import google_translator\n",
    "import pyttsx3\n"
   ]
  },
  {
   "cell_type": "code",
   "execution_count": 23,
   "id": "3242d023",
   "metadata": {},
   "outputs": [],
   "source": [
    "recognizer= sr.Recognizer()\n",
    "engine=pyttsx3.init()"
   ]
  },
  {
   "cell_type": "markdown",
   "id": "daad2f1b",
   "metadata": {},
   "source": [
    "Algorithm:"
   ]
  },
  {
   "cell_type": "code",
   "execution_count": 24,
   "id": "568deff8",
   "metadata": {},
   "outputs": [
    {
     "name": "stdout",
     "output_type": "stream",
     "text": [
      "Clearing the background noises...\n",
      "Waiting for your message\n",
      "Done Recording\n",
      "Recognizing\n",
      "result2:\n",
      "{   'alternative': [   {   'confidence': 0.97219545,\n",
      "                           'transcript': 'hello how are you'}],\n",
      "    'final': True}\n"
     ]
    }
   ],
   "source": [
    "with sr.Microphone() as source:\n",
    "    print ('Clearing the background noises...')\n",
    "    recognizer.adjust_for_ambient_noise(source,duration=1)\n",
    "    print ('Waiting for your message')\n",
    "    audio=recognizer.listen(source,timeout=1)\n",
    "    print('Done Recording')\n",
    "try:\n",
    "    print('Recognizing')\n",
    "    result=recognizer.recognize_google(audio,language='en')\n",
    "except Exception as ex:\n",
    "    print(ex)"
   ]
  },
  {
   "cell_type": "markdown",
   "id": "10a71102",
   "metadata": {},
   "source": [
    "Translation Function:"
   ]
  },
  {
   "cell_type": "code",
   "execution_count": null,
   "id": "db22ccdb",
   "metadata": {},
   "outputs": [],
   "source": [
    "def trans():\n",
    "    langinput=input('Type the language code you want to translate :')\n",
    "    translator=google_translator()\n",
    "    translate_text=translator.translate(str(result),lang_tgt=str(langinput))\n",
    "    print(translate_text)\n",
    "    engine.say(str(translate_text))\n",
    "    engine.runAndWait()\n",
    "trans()"
   ]
  },
 
  }
 },
 "nbformat": 4,
 "nbformat_minor": 5
}
 {
   "cell_type": "code",
   "execution_count": null,
   "id": "66494df4",
   "metadata": {},
   "outputs": [],
   "source": []
  },
  {
   "cell_type": "code",
   "execution_count": null,
   "id": "fa38872f",
   "metadata": {},
   "outputs": [],
   "source": []
  }
 ],
 "metadata": {
  "kernelspec": {
   "display_name": "Python 3",
   "language": "python",
   "name": "python3"
  },
  "language_info": {
   "codemirror_mode": {
    "name": "ipython",
    "version": 3
   },
   "file_extension": ".py",
   "mimetype": "text/x-python",
   "name": "python",
   "nbconvert_exporter": "python",
   "pygments_lexer": "ipython3",
   "version": "3.8.8"
  
