{
 "cells": [
  {
   "cell_type": "markdown",
   "id": "intro",
   "metadata": {},
   "source": [
    "# 🎤 Voice Translator App\n",
    "\n",
    "This notebook captures your voice, recognizes the speech, translates it to a target language, and reads it aloud.\n",
    "\n",
    "Note: This code uses libraries (`speech_recognition`, `google_trans_new`, `pyttsx3`) that must be installed in a local Python environment."
   ]
  },
  {
   "cell_type": "code",
   "execution_count": null,
   "id": "module-check",
   "metadata": {},
   "outputs": [],
   "source": [
    "missing_modules = []\n",
    "\n",
    "try:\n",
    "    import speech_recognition as sr\n",
    "except ModuleNotFoundError:\n",
    "    print(\"Module 'speech_recognition' not found.\")\n",
    "    missing_modules.append(\"SpeechRecognition\")\n",
    "\n",
    "try:\n",
    "    from google_trans_new import google_translator\n",
    "except ModuleNotFoundError:\n",
    "    print(\"Module 'google_trans_new' not found.\")\n",
    "    missing_modules.append(\"google_trans_new\")\n",
    "\n",
    "try:\n",
    "    import pyttsx3\n",
    "except ModuleNotFoundError:\n",
    "    print(\"Module 'pyttsx3' not found.\")\n",
    "    missing_modules.append(\"pyttsx3\")\n",
    "\n",
    "if missing_modules:\n",
    "    print(\"\\nThe following required modules are missing:\")\n",
    "    for mod in missing_modules:\n",
    "        print(f\"- {mod}\")\n",
    "    print(\"\\nPlease install them using pip before running this script.\")\n",
    "    print(\"Example:\")\n",
    "    print(\"  pip install SpeechRecognition google_trans_new pyttsx3\")"
   ]
  },
  {
   "cell_type": "code",
   "execution_count": null,
   "id": "main-app",
   "metadata": {},
   "outputs": [],
   "source": [
    "if not missing_modules:\n",
    "    recognizer = sr.Recognizer()\n",
    "    engine = pyttsx3.init()\n",
    "\n",
    "    # Step 1: Capture voice input\n",
    "    try:\n",
    "        with sr.Microphone() as source:\n",
    "            print('Clearing background noise...')\n",
    "            recognizer.adjust_for_ambient_noise(source, duration=1)\n",
    "            print('Listening for your message...')\n",
    "            try:\n",
    "                audio = recognizer.listen(source, timeout=5)\n",
    "                print('Recording done.')\n",
    "            except sr.WaitTimeoutError:\n",
    "                print('Listening timed out while waiting for phrase to start')\n",
    "                audio = None\n",
    "    except Exception as mic_error:\n",
    "        print(\"Microphone not accessible or not found:\", mic_error)\n",
    "        audio = None\n",
    "\n",
    "    # Step 2: Recognize speech\n",
    "    result = \"\"\n",
    "    if audio:\n",
    "        try:\n",
    "            print('Recognizing speech...')\n",
    "            result = recognizer.recognize_google(audio, language='en')\n",
    "            print(f\"You said: {result}\")\n",
    "        except sr.UnknownValueError:\n",
    "            print(\"Could not understand the audio\")\n",
    "        except sr.RequestError as e:\n",
    "            print(f\"Could not request results; {e}\")\n",
    "\n",
    "    # Step 3: Translate and speak\n",
    "    if result:\n",
    "        def trans():\n",
    "            langinput = input('Type the target language code (e.g., \"tr\" for Turkish): ')\n",
    "            translator = google_translator()\n",
    "            try:\n",
    "                translate_text = translator.translate(result, lang_tgt=langinput)\n",
    "                print(f\"Translated: {translate_text}\")\n",
    "                engine.say(translate_text)\n",
    "                engine.runAndWait()\n",
    "            except Exception as ex:\n",
    "                print(f\"Translation error: {ex}\")\n",
    "\n",
    "        trans()"
   ]
  }
 ],
 "metadata": {
  "kernelspec": {
   "display_name": "Python 3",
   "language": "python",
   "name": "python3"
  },
  "language_info": {
   "name": "python",
   "version": "3.8.8",
   "mimetype": "text/x-python",
   "codemirror_mode": {
    "name": "ipython",
    "version": 3
   },
   "file_extension": ".py",
   "pygments_lexer": "ipython3",
   "nbconvert_exporter": "python"
  }
 },
 "nbformat": 4,
 "nbformat_minor": 5
}
