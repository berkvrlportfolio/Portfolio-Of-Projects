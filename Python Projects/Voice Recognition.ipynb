{
 "cells": [
  {
   "cell_type": "markdown",
   "id": "voice-translator-intro",
   "metadata": {},
   "source": [
    "# 🎙️ Voice Translator App using Python\n",
    "\n",
    "This simple Python project allows you to:\n",
    "- Record your voice through the microphone\n",
    "- Recognize your speech using Google Speech Recognition\n",
    "- Translate the recognized text into a target language\n",
    "- Speak the translated output aloud using text-to-speech\n"
   ]
  },
  {
   "cell_type": "markdown",
   "id": "dependencies-cell",
   "metadata": {},
   "source": [
    "## 🔧 Install Required Packages\n",
    "Run these commands to make sure all required libraries are installed."
   ]
  },
  {
   "cell_type": "code",
   "execution_count": null,
   "id": "install-packages",
   "metadata": {},
   "outputs": [],
   "source": [
    "!pip install SpeechRecognition google_trans_new pyttsx3 PyAudio"
   ]
  },
  {
   "cell_type": "markdown",
   "id": "import-modules",
   "metadata": {},
   "source": [
    "## 📦 Import Required Modules"
   ]
  },
  {
   "cell_type": "code",
   "execution_count": null,
   "id": "imports",
   "metadata": {},
   "outputs": [],
   "source": [
    "import speech_recognition as sr\n",
    "from google_trans_new import google_translator\n",
    "import pyttsx3"
   ]
  },
  {
   "cell_type": "markdown",
   "id": "init-engine",
   "metadata": {},
   "source": [
    "## ⚙️ Initialize Recognizer and Speech Engine"
   ]
  },
  {
   "cell_type": "code",
   "execution_count": null,
   "id": "init-vars",
   "metadata": {},
   "outputs": [],
   "source": [
    "recognizer = sr.Recognizer()\n",
    "engine = pyttsx3.init()"
   ]
  },
  {
   "cell_type": "markdown",
   "id": "record-voice",
   "metadata": {},
   "source": [
    "## 🎧 Step 1: Record Your Voice"
   ]
  },
  {
   "cell_type": "code",
   "execution_count": null,
   "id": "voice-recording",
   "metadata": {},
   "outputs": [],
   "source": [
    "with sr.Microphone() as source:\n",
    "    print('Clearing background noise...')\n",
    "    recognizer.adjust_for_ambient_noise(source, duration=1)\n",
    "    print('Listening for your message...')\n",
    "    try:\n",
    "        audio = recognizer.listen(source, timeout=5)\n",
    "        print('Recording done.')\n",
    "    except sr.WaitTimeoutError:\n",
    "        print('Listening timed out while waiting for phrase to start')\n",
    "        audio = None"
   ]
  },
  {
   "cell_type": "markdown",
   "id": "speech-recognition",
   "metadata": {},
   "source": [
    "## 🧠 Step 2: Recognize the Speech"
   ]
  },
  {
   "cell_type": "code",
   "execution_count": null,
   "id": "speech-recog-code",
   "metadata": {},
   "outputs": [],
   "source": [
    "result = \"\"\n",
    "if audio:\n",
    "    try:\n",
    "        print('Recognizing speech...')\n",
    "        result = recognizer.recognize_google(audio, language='en')\n",
    "        print(f\"You said: {result}\")\n",
    "    except sr.UnknownValueError:\n",
    "        print(\"Could not understand the audio\")\n",
    "    except sr.RequestError as e:\n",
    "        print(f\"Could not request results; {e}\")"
   ]
  },
  {
   "cell_type": "markdown",
   "id": "translation-section",
   "metadata": {},
   "source": [
    "## 🌍 Step 3: Translate & Speak the Result"
   ]
  },
  {
   "cell_type": "code",
   "execution_count": null,
   "id": "translation-code",
   "metadata": {},
   "outputs": [],
   "source": [
    "if result:\n",
    "    def trans():\n",
    "        langinput = input('Type the target language code (e.g., \"tr\" for Turkish): ')\n",
    "        translator = google_translator()\n",
    "        try:\n",
    "            translate_text = translator.translate(result, lang_tgt=langinput)\n",
    "            print(f\"Translated: {translate_text}\")\n",
    "            engine.say(translate_text)\n",
    "            engine.runAndWait()\n",
    "        except Exception as ex:\n",
    "            print(f\"Translation error: {ex}\")\n",
    "\n",
    "    trans()"
   ]
  }
 ],
 "metadata": {
  "kernelspec": {
   "display_name": "Python 3",
   "language": "python",
   "name": "python3"
  },
  "language_info": {
   "name": "python",
   "version": "3.8.8",
   "mimetype": "text/x-python",
   "codemirror_mode": {
    "name": "ipython",
    "version": 3
   },
   "file_extension": ".py",
   "pygments_lexer": "ipython3",
   "nbconvert_exporter": "python"
  }
 },
 "nbformat": 4,
 "nbformat_minor": 5
}
