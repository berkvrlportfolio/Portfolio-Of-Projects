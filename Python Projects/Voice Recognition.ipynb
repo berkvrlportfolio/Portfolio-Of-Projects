{
 "cells": [
  {
   "cell_type": "markdown",
   "id": "intro",
   "metadata": {},
   "source": [
    "# 🎤 Voice Translator App (macOS)\n",
    "\n",
    "This notebook records your voice 🎙️, transcribes the speech to text, translates it to another language 🌍, and speaks it aloud 🗣️ using macOS's built-in `say` command.\n",
    "\n",
    "Make sure you have the following installed:\n",
    "```bash\n",
    "pip install SpeechRecognition googletrans==4.0.0-rc1\n",
    "```"
   ]
  },
  {
   "cell_type": "code",
   "execution_count": null,
   "id": "install",
   "metadata": {},
   "outputs": [],
   "source": [
    "!pip install SpeechRecognition googletrans==4.0.0-rc1"
   ]
  },
  {
   "cell_type": "code",
   "execution_count": null,
   "id": "translator-app",
   "metadata": {},
   "outputs": [],
   "source": [
    "# Voice Translator App for macOS using 'googletrans' and 'say'\n",
    "\n",
    "missing_modules = []\n",
    "\n",
    "try:\n",
    "    import speech_recognition as sr\n",
    "except ModuleNotFoundError:\n",
    "    print(\"Module 'speech_recognition' not found.\")\n",
    "    missing_modules.append(\"SpeechRecognition\")\n",
    "\n",
    "try:\n",
    "    from googletrans import Translator\n",
    "except ModuleNotFoundError:\n",
    "    print(\"Module 'googletrans' not found.\")\n",
    "    missing_modules.append(\"googletrans\")\n",
    "\n",
    "import os  # macOS voice output\n",
    "\n",
    "if missing_modules:\n",
    "    print(\"\\nThe following required modules are missing:\")\n",
    "    for mod in missing_modules:\n",
    "        print(f\"- {mod}\")\n",
    "    print(\"\\nPlease install them using pip before running this script:\")\n",
    "    print(\"  pip install SpeechRecognition googletrans==4.0.0-rc1\")\n",
    "else:\n",
    "    recognizer = sr.Recognizer()\n",
    "\n",
    "    # Step 1: Capture voice input\n",
    "    try:\n",
    "        with sr.Microphone() as source:\n",
    "            print('Clearing background noise...')\n",
    "            recognizer.adjust_for_ambient_noise(source, duration=1)\n",
    "            print('Listening for your message...')\n",
    "            try:\n",
    "                audio = recognizer.listen(source, timeout=5)\n",
    "                print('Recording done.')\n",
    "            except sr.WaitTimeoutError:\n",
    "                print('Listening timed out while waiting for phrase to start')\n",
    "                audio = None\n",
    "    except Exception as mic_error:\n",
    "        print(\"Microphone not accessible or not found:\", mic_error)\n",
    "        audio = None\n",
    "\n",
    "    # Step 2: Recognize speech\n",
    "    result = \"\"\n",
    "    if audio:\n",
    "        try:\n",
    "            print('Recognizing speech...')\n",
    "            result = recognizer.recognize_google(audio, language='en')\n",
    "            print(f\"You said: {result}\")\n",
    "        except sr.UnknownValueError:\n",
    "            print(\"Could not understand the audio\")\n",
    "        except sr.RequestError as e:\n",
    "            print(f\"Could not request results; {e}\")\n",
    "\n",
    "    # Step 3: Translate and speak\n",
    "    if result:\n",
    "        def trans():\n",
    "            langinput = input('Type the target language code (e.g., \"tr\" for Turkish): ')\n",
    "            translator = Translator()\n",
    "            try:\n",
    "                translated = translator.translate(result, dest=langinput)\n",
    "                print(f\"Translated: {translated.text}\")\n",
    "                os.system(f'say \"{translated.text}\"')  # macOS TTS\n",
    "            except Exception as ex:\n",
    "                print(f\"Translation error: {ex}\")\n",
    "\n",
    "        trans()"
   ]
  }
 ],
 "metadata": {
  "kernelspec": {
   "display_name": "Python 3",
   "language": "python",
   "name": "python3"
  },
  "language_info": {
   "name": "python",
   "version": "3.11"
  }
 },
 "nbformat": 4,
 "nbformat_minor": 5
}
